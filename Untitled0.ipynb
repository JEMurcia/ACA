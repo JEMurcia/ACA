{
  "nbformat": 4,
  "nbformat_minor": 0,
  "metadata": {
    "colab": {
      "name": "Untitled0.ipynb",
      "provenance": [],
      "toc_visible": true,
      "include_colab_link": true
    },
    "kernelspec": {
      "name": "python3",
      "display_name": "Python 3"
    }
  },
  "cells": [
    {
      "cell_type": "markdown",
      "metadata": {
        "id": "view-in-github",
        "colab_type": "text"
      },
      "source": [
        "<a href=\"https://colab.research.google.com/github/JEMurcia/ACA/blob/master/Untitled0.ipynb\" target=\"_parent\"><img src=\"https://colab.research.google.com/assets/colab-badge.svg\" alt=\"Open In Colab\"/></a>"
      ]
    },
    {
      "cell_type": "markdown",
      "metadata": {
        "id": "ix2GiZ20a2sx",
        "colab_type": "text"
      },
      "source": [
        "# Importing Modules"
      ]
    },
    {
      "cell_type": "code",
      "metadata": {
        "id": "kdMYhEJZbBy0",
        "colab_type": "code",
        "colab": {
          "base_uri": "https://localhost:8080/",
          "height": 593
        },
        "outputId": "ae7ade33-ceea-452c-f649-1d0d1231a2d3"
      },
      "source": [
        "!pip install pySurvival"
      ],
      "execution_count": 2,
      "outputs": [
        {
          "output_type": "stream",
          "text": [
            "Collecting pySurvival\n",
            "\u001b[?25l  Downloading https://files.pythonhosted.org/packages/13/dd/d7bf69b6e1e0d1cd243b39577867c15d092404d5bc7afef3ae135b50717f/pysurvival-0.1.2.tar.gz (4.7MB)\n",
            "\u001b[K     |████████████████████████████████| 4.8MB 4.7MB/s \n",
            "\u001b[?25hRequirement already satisfied: matplotlib in /usr/local/lib/python3.6/dist-packages (from pySurvival) (3.0.3)\n",
            "Requirement already satisfied: numpy in /usr/local/lib/python3.6/dist-packages (from pySurvival) (1.16.5)\n",
            "Requirement already satisfied: pandas in /usr/local/lib/python3.6/dist-packages (from pySurvival) (0.24.2)\n",
            "Requirement already satisfied: pip in /usr/local/lib/python3.6/dist-packages (from pySurvival) (19.2.3)\n",
            "Collecting progressbar (from pySurvival)\n",
            "  Downloading https://files.pythonhosted.org/packages/a3/a6/b8e451f6cff1c99b4747a2f7235aa904d2d49e8e1464e0b798272aa84358/progressbar-2.5.tar.gz\n",
            "Requirement already satisfied: pyarrow in /usr/local/lib/python3.6/dist-packages (from pySurvival) (0.14.1)\n",
            "Requirement already satisfied: scikit-learn in /usr/local/lib/python3.6/dist-packages (from pySurvival) (0.21.3)\n",
            "Requirement already satisfied: scipy in /usr/local/lib/python3.6/dist-packages (from pySurvival) (1.3.1)\n",
            "Requirement already satisfied: sklearn in /usr/local/lib/python3.6/dist-packages (from pySurvival) (0.0)\n",
            "Requirement already satisfied: torch in /usr/local/lib/python3.6/dist-packages (from pySurvival) (1.2.0)\n",
            "Requirement already satisfied: cycler>=0.10 in /usr/local/lib/python3.6/dist-packages (from matplotlib->pySurvival) (0.10.0)\n",
            "Requirement already satisfied: python-dateutil>=2.1 in /usr/local/lib/python3.6/dist-packages (from matplotlib->pySurvival) (2.5.3)\n",
            "Requirement already satisfied: pyparsing!=2.0.4,!=2.1.2,!=2.1.6,>=2.0.1 in /usr/local/lib/python3.6/dist-packages (from matplotlib->pySurvival) (2.4.2)\n",
            "Requirement already satisfied: kiwisolver>=1.0.1 in /usr/local/lib/python3.6/dist-packages (from matplotlib->pySurvival) (1.1.0)\n",
            "Requirement already satisfied: pytz>=2011k in /usr/local/lib/python3.6/dist-packages (from pandas->pySurvival) (2018.9)\n",
            "Requirement already satisfied: six>=1.0.0 in /usr/local/lib/python3.6/dist-packages (from pyarrow->pySurvival) (1.12.0)\n",
            "Requirement already satisfied: joblib>=0.11 in /usr/local/lib/python3.6/dist-packages (from scikit-learn->pySurvival) (0.14.0)\n",
            "Requirement already satisfied: setuptools in /usr/local/lib/python3.6/dist-packages (from kiwisolver>=1.0.1->matplotlib->pySurvival) (41.2.0)\n",
            "Building wheels for collected packages: pySurvival, progressbar\n",
            "  Building wheel for pySurvival (setup.py) ... \u001b[?25l\u001b[?25hdone\n",
            "  Created wheel for pySurvival: filename=pysurvival-0.1.2-cp36-cp36m-linux_x86_64.whl size=3774762 sha256=e478aa20015167c756f953db2e8dae8fe25ffbe4f95f7f3a5d2b3d51258fc03c\n",
            "  Stored in directory: /root/.cache/pip/wheels/6c/23/e8/6feb0c4432219666bdd5d33828d7d9f429c4726f34c6fa8061\n",
            "  Building wheel for progressbar (setup.py) ... \u001b[?25l\u001b[?25hdone\n",
            "  Created wheel for progressbar: filename=progressbar-2.5-cp36-none-any.whl size=12073 sha256=089bd77647e7c303196692b0db70164a3dfbbcf8a2d1ff3c76858067d3c7197a\n",
            "  Stored in directory: /root/.cache/pip/wheels/c0/e9/6b/ea01090205e285175842339aa3b491adeb4015206cda272ff0\n",
            "Successfully built pySurvival progressbar\n",
            "Installing collected packages: progressbar, pySurvival\n",
            "Successfully installed progressbar-2.5 pySurvival-0.1.2\n"
          ],
          "name": "stdout"
        }
      ]
    },
    {
      "cell_type": "code",
      "metadata": {
        "id": "nUXWgEyqayvm",
        "colab_type": "code",
        "colab": {}
      },
      "source": [
        "# Importing modules\n",
        "import os\n",
        "from pathlib import Path\n",
        "import pandas as pd\n",
        "import numpy as np\n",
        "from matplotlib import pyplot as plt\n",
        "from pysurvival.datasets import Dataset\n",
        "from pysurvival.models import survival_forest, non_parametric, semi_parametric, svm\n",
        "from pysurvival.utils import metrics, display\n",
        "from pysurvival.utils.display import correlation_matrix\n",
        "from sklearn.model_selection import train_test_split\n",
        "from pysurvival.models import *\n",
        "from pysurvival.utils import *"
      ],
      "execution_count": 0,
      "outputs": []
    },
    {
      "cell_type": "markdown",
      "metadata": {
        "id": "0Loc_XiibZXM",
        "colab_type": "text"
      },
      "source": [
        "# Survival Class"
      ]
    },
    {
      "cell_type": "code",
      "metadata": {
        "id": "hto4YzFrbjNl",
        "colab_type": "code",
        "colab": {}
      },
      "source": [
        "class surv_models():\n",
        "    def __init__(self):\n",
        "        # ======================================== DATA ADQUISITION ========================================\n",
        "        self.dataset,self.features,self.time_column,self.event_column = self.build_data()\n",
        "        # ========================================== DATA SAMPLING =========================================\n",
        "        self.sample_data()\n",
        "        self.cox = None\n",
        "        self.rsf = None\n",
        "        self.svm = None\n",
        "\n",
        "    def build_data(self):\n",
        "        # base_path = Path(__file__).parent.resolve()\n",
        "        # lab_cac = (base_path / \"../Data/Survival/survival_renal_17oct_unders.csv\").resolve()\n",
        "\n",
        "        # Reading Data\n",
        "        # raw_dataset = pd.read_csv(os.path.abspath(lab_cac))\n",
        "        raw_dataset = pd.read_csv('survival_renal_17oct_unders.csv')\n",
        "        print(raw_dataset.head())\n",
        "\n",
        "        # Creating the time and event columns\n",
        "        time_column = 'dias'\n",
        "        event_column = 'outcome'\n",
        "\n",
        "        # Creating one-hot vectors\n",
        "        category_columns = ['outcome', 'muerte', 'trr', 'genero', 'hipertension', 'diabetes']\n",
        "        dataset = pd.get_dummies(raw_dataset, columns=category_columns, drop_first=True)\n",
        "        dataset.columns = ['bi_id', 'dias', 'edad', 'creatinina', 'peso', 'imc', 'causa', 'outcome', 'muerte', 'trr', 'genero',\n",
        "                           'hipertension', 'diabetes']\n",
        "        print(dataset.head())\n",
        "\n",
        "        # Creating the features\n",
        "        features = ['genero', 'edad', 'creatinina', 'peso', 'imc', 'hipertension', 'diabetes']\n",
        "\n",
        "        # ======================================== PREPROCESING ========================================\n",
        "\n",
        "        # Checking for null values\n",
        "        N_null = sum(dataset[features].isnull().sum())\n",
        "        print(\"The dataset contains {} null values\".format(N_null))  # 0 null values\n",
        "        dataset = dataset.dropna()\n",
        "\n",
        "        # Removing duplicates if there exist\n",
        "        N_dupli = sum(dataset.duplicated(keep='first'))\n",
        "        dataset = dataset.drop_duplicates(keep='first').reset_index(drop=True)\n",
        "        print(\"The dataset contains {} duplicates\".format(N_dupli))\n",
        "\n",
        "        # CORRELATION BETWEEN FEATURES\n",
        "        # correlation_matrix(dataset[features], figure_size=(20, 10), text_fontsize=10)\n",
        "        return dataset,features,time_column,event_column\n",
        "\n",
        "    def sample_data(self):\n",
        "        # Downsampling the dataset to speed up computations\n",
        "        # indexes_choices = np.random.choice(N, int(N*0.3), replace=False).tolist()\n",
        "\n",
        "        # Building training and testing sets\n",
        "        index_train, index_test = train_test_split(list(range(self.dataset.shape[0])), test_size=0.3)\n",
        "        data_train = self.dataset.loc[index_train].reset_index(drop=True)\n",
        "        data_test = self.dataset.loc[index_test].reset_index(drop=True)\n",
        "\n",
        "        # Creating the X, T and E inputs\n",
        "        self.X_train, self.X_test = data_train[self.features], data_test[self.features]  # FEATURES DATA\n",
        "        self.T_train, self.T_test = data_train[self.time_column], data_test[self.time_column]  # SURVIVAL TIME\n",
        "        self.E_train, self.E_test = data_train[self.event_column], data_test[self.event_column]  # EVENT OCURRENCE\n",
        "\n",
        "    # ======================================== MODELS ========================================\n",
        "    def train_cox(self):\n",
        "        cox = semi_parametric.CoxPHModel()\n",
        "        cox.fit(self.X_train, self.T_train, self.E_train, lr=0.5, l2_reg=1e-2, init_method='zeros')\n",
        "        self.cox = cox\n",
        "        return cox\n",
        "\n",
        "    def train_rsf(self):\n",
        "        rsf = survival_forest.RandomSurvivalForestModel(num_trees=200)\n",
        "        rsf.fit(self.X_train, self.T_train, self.E_train, max_features='sqrt', max_depth=5, min_node_size=30)\n",
        "        self.rsf = rsf\n",
        "        return rsf\n",
        "\n",
        "    def train_svm(self):\n",
        "        svm_model = svm.KernelSVMModel()\n",
        "        svm_model.fit(self.X_train, self.T_train, self.E_train)\n",
        "        self.svm = svm_model\n",
        "        return svm_model\n",
        "\n",
        "    # ======================================= SAVING/LOADING MODELS =========================================\n",
        "    # MODEL: pySurvival model\n",
        "    # MODELNAME : a str specifying the name of the file without format e.g Cox_pySurvival\n",
        "    def save_m(self,model,modelname):\n",
        "        base_path = Path(__file__).parent.resolve()\n",
        "        survival_path = (base_path / \"../Data/Survival\" / modelname).resolve()\n",
        "        save_model(model, str(survival_path))\n",
        "\n",
        "    def load_m(self,modelname):\n",
        "        # base_path = Path(__file__).parent.resolve()\n",
        "        # survival_path = (base_path / \"../Data/Survival\" / modelname).resolve()\n",
        "        model = load_model(str(modelname) + \".zip\")\n",
        "        return model\n",
        "\n",
        "    # ======================================== CROSS VALIDATION ========================================\n",
        "    # C-INDEX METRIC: 1 - good ; 0 poor\n",
        "    # BRIER SCORE : average discrepancies between the status and the estimated probabilities at a given time\n",
        "    def cv_cox(self):\n",
        "        c_index_cox = metrics.concordance_index(self.cox, self.X_test, self.T_test, self.E_test)\n",
        "        ibs_cox = metrics.integrated_brier_score(self.cox, self.X_test, self.T_test, self.E_test, t_max=max(self.T_test))\n",
        "        return c_index_cox,ibs_cox\n",
        "\n",
        "    def cv_rsf(self):\n",
        "        c_index_rsf = metrics.concordance_index(self.rsf, self.X_test, self.T_test, self.E_test)\n",
        "        ibs_rsf = metrics.integrated_brier_score(self.rsf, self.X_test, self.T_test, self.E_test, t_max=max(self.T_test))\n",
        "        return c_index_rsf, ibs_rsf\n",
        "\n",
        "    def cv_svm(self):\n",
        "        c_index_svm = metrics.concordance_index(self.svm, self.X_test, self.T_test, self.E_test)\n",
        "        ibs_svm = metrics.integrated_brier_score(self.svm, self.X_test, self.T_test, self.E_test, t_max=max(self.T_test))\n",
        "        return c_index_svm, ibs_svm\n",
        "\n",
        "    def compare_all(self):\n",
        "        cox_cindex, cox_ibs = self.cv_cox()\n",
        "        rsf_cindex, rsf_ibs = self.cv_rsf()\n",
        "        svm_cindex, svm_ibs = self.cv_svm()\n",
        "        # C-INDEX COMPARISION\n",
        "        print('C-INDEX \\n\\t - COX: {:.3f} \\n\\t - CSF: {:.3f} \\n\\t - SVM: {:.3f}'.format(cox_cindex,rsf_cindex,svm_cindex))\n",
        "        # BRIER SCORE\n",
        "        print('BRIER SCORE (INTEGRATED) \\n\\t - COX: {:.3f} \\n\\t - CSF: {:.3f} \\n\\t - SVM: {:.3f}'.format(cox_ibs,rsf_ibs,svm_ibs))\n",
        "        # RISK - OVERALL PREDICTIONS\n",
        "        results_cox = display.compare_to_actual(self.cox, self.X_test, self.T_test, self.E_test, figure_size=(16, 6),\n",
        "                                                metrics=['rmse', 'mean', 'median'])\n",
        "        results_csf = display.compare_to_actual(self.rsf, self.X_test, self.T_test, self.E_test, figure_size=(16,6),\n",
        "                                                metrics=['rmse','mean','median'])\n",
        "        results_cox = display.compare_to_actual(self.svm, self.X_test, self.T_test, self.E_test, figure_size=(16, 6),\n",
        "                                                metrics=['rmse', 'mean', 'median'])"
      ],
      "execution_count": 0,
      "outputs": []
    },
    {
      "cell_type": "code",
      "metadata": {
        "id": "DLn_zh_xgyHc",
        "colab_type": "code",
        "colab": {
          "base_uri": "https://localhost:8080/",
          "height": 592
        },
        "outputId": "450f3b80-366d-45d8-8ea1-17bff7dbba33"
      },
      "source": [
        "survivals = surv_models()\n",
        "survivals.csf = survivals.load_m('RSF_renal_17oct')"
      ],
      "execution_count": 11,
      "outputs": [
        {
          "output_type": "stream",
          "text": [
            "         bi_id  dias  outcome  muerte  ...        imc hipertension  diabetes  causa\n",
            "0  CC-14942551  2326    False   False  ...  28.178696         True      True      0\n",
            "1  CC-17068017  2423    False   False  ...  26.229166         True     False      0\n",
            "2  CC-17194675  2389    False   False  ...  27.142273         True     False      0\n",
            "3  CC-20009316  2416    False   False  ...  22.922500         True     False      0\n",
            "4  CC-20209077  2458    False   False  ...  25.299091         True      True      0\n",
            "\n",
            "[5 rows x 13 columns]\n",
            "         bi_id  dias  edad  creatinina  ...  trr  genero  hipertension  diabetes\n",
            "0  CC-14942551  2326    72    1.944375  ...    0       1             1         1\n",
            "1  CC-17068017  2423    77    1.188000  ...    0       1             1         0\n",
            "2  CC-17194675  2389    71    1.488889  ...    0       1             1         0\n",
            "3  CC-20009316  2416    85    0.928333  ...    0       0             1         0\n",
            "4  CC-20209077  2458    81    1.248667  ...    0       0             1         1\n",
            "\n",
            "[5 rows x 13 columns]\n",
            "The dataset contains 0 null values\n",
            "The dataset contains 0 duplicates\n",
            "Loading the model from /RSF_renal_17oct.zip\n"
          ],
          "name": "stdout"
        },
        {
          "output_type": "error",
          "ename": "ArrowIOError",
          "evalue": "ignored",
          "traceback": [
            "\u001b[0;31m---------------------------------------------------------------------------\u001b[0m",
            "\u001b[0;31mArrowIOError\u001b[0m                              Traceback (most recent call last)",
            "\u001b[0;32m<ipython-input-11-6258e436f5f7>\u001b[0m in \u001b[0;36m<module>\u001b[0;34m()\u001b[0m\n\u001b[1;32m      1\u001b[0m \u001b[0msurvivals\u001b[0m \u001b[0;34m=\u001b[0m \u001b[0msurv_models\u001b[0m\u001b[0;34m(\u001b[0m\u001b[0;34m)\u001b[0m\u001b[0;34m\u001b[0m\u001b[0;34m\u001b[0m\u001b[0m\n\u001b[0;32m----> 2\u001b[0;31m \u001b[0msurvivals\u001b[0m\u001b[0;34m.\u001b[0m\u001b[0mcsf\u001b[0m \u001b[0;34m=\u001b[0m \u001b[0msurvivals\u001b[0m\u001b[0;34m.\u001b[0m\u001b[0mload_m\u001b[0m\u001b[0;34m(\u001b[0m\u001b[0;34m'RSF_renal_17oct'\u001b[0m\u001b[0;34m)\u001b[0m\u001b[0;34m\u001b[0m\u001b[0;34m\u001b[0m\u001b[0m\n\u001b[0m",
            "\u001b[0;32m<ipython-input-10-20c733e34f88>\u001b[0m in \u001b[0;36mload_m\u001b[0;34m(self, modelname)\u001b[0m\n\u001b[1;32m     92\u001b[0m         \u001b[0;31m# base_path = Path(__file__).parent.resolve()\u001b[0m\u001b[0;34m\u001b[0m\u001b[0;34m\u001b[0m\u001b[0;34m\u001b[0m\u001b[0m\n\u001b[1;32m     93\u001b[0m         \u001b[0;31m# survival_path = (base_path / \"../Data/Survival\" / modelname).resolve()\u001b[0m\u001b[0;34m\u001b[0m\u001b[0;34m\u001b[0m\u001b[0;34m\u001b[0m\u001b[0m\n\u001b[0;32m---> 94\u001b[0;31m         \u001b[0mmodel\u001b[0m \u001b[0;34m=\u001b[0m \u001b[0mload_model\u001b[0m\u001b[0;34m(\u001b[0m\u001b[0mstr\u001b[0m\u001b[0;34m(\u001b[0m\u001b[0mmodelname\u001b[0m\u001b[0;34m)\u001b[0m \u001b[0;34m+\u001b[0m \u001b[0;34m\".zip\"\u001b[0m\u001b[0;34m)\u001b[0m\u001b[0;34m\u001b[0m\u001b[0;34m\u001b[0m\u001b[0m\n\u001b[0m\u001b[1;32m     95\u001b[0m         \u001b[0;32mreturn\u001b[0m \u001b[0mmodel\u001b[0m\u001b[0;34m\u001b[0m\u001b[0;34m\u001b[0m\u001b[0m\n\u001b[1;32m     96\u001b[0m \u001b[0;34m\u001b[0m\u001b[0m\n",
            "\u001b[0;32m/usr/local/lib/python3.6/dist-packages/pysurvival/utils/__init__.py\u001b[0m in \u001b[0;36mload_model\u001b[0;34m(path_file)\u001b[0m\n\u001b[1;32m    154\u001b[0m \u001b[0;34m\u001b[0m\u001b[0m\n\u001b[1;32m    155\u001b[0m     \u001b[0;31m# Temporary loading the model\u001b[0m\u001b[0;34m\u001b[0m\u001b[0;34m\u001b[0m\u001b[0;34m\u001b[0m\u001b[0m\n\u001b[0;32m--> 156\u001b[0;31m     \u001b[0mbase_model\u001b[0m\u001b[0;34m.\u001b[0m\u001b[0mload\u001b[0m\u001b[0;34m(\u001b[0m\u001b[0mpath_file\u001b[0m\u001b[0;34m)\u001b[0m\u001b[0;34m\u001b[0m\u001b[0;34m\u001b[0m\u001b[0m\n\u001b[0m\u001b[1;32m    157\u001b[0m     \u001b[0mmodel_name\u001b[0m \u001b[0;34m=\u001b[0m \u001b[0mbase_model\u001b[0m\u001b[0;34m.\u001b[0m\u001b[0mname\u001b[0m\u001b[0;34m\u001b[0m\u001b[0;34m\u001b[0m\u001b[0m\n\u001b[1;32m    158\u001b[0m \u001b[0;34m\u001b[0m\u001b[0m\n",
            "\u001b[0;32m/usr/local/lib/python3.6/dist-packages/pysurvival/models/__init__.py\u001b[0m in \u001b[0;36mload\u001b[0;34m(self, path_file)\u001b[0m\n\u001b[1;32m    142\u001b[0m             \u001b[0;32mif\u001b[0m \u001b[0;34m'parameters'\u001b[0m \u001b[0;32min\u001b[0m \u001b[0mfile_name\u001b[0m\u001b[0;34m.\u001b[0m\u001b[0mlower\u001b[0m\u001b[0;34m(\u001b[0m\u001b[0;34m)\u001b[0m\u001b[0;34m:\u001b[0m\u001b[0;34m\u001b[0m\u001b[0;34m\u001b[0m\u001b[0m\n\u001b[1;32m    143\u001b[0m                 \u001b[0mcontent\u001b[0m \u001b[0;34m=\u001b[0m \u001b[0minput_zip\u001b[0m\u001b[0;34m.\u001b[0m\u001b[0mread\u001b[0m\u001b[0;34m(\u001b[0m \u001b[0;34m'parameters'\u001b[0m \u001b[0;34m)\u001b[0m\u001b[0;34m\u001b[0m\u001b[0;34m\u001b[0m\u001b[0m\n\u001b[0;32m--> 144\u001b[0;31m                 \u001b[0mself\u001b[0m\u001b[0;34m.\u001b[0m\u001b[0m__dict__\u001b[0m \u001b[0;34m=\u001b[0m \u001b[0mcopy\u001b[0m\u001b[0;34m.\u001b[0m\u001b[0mdeepcopy\u001b[0m\u001b[0;34m(\u001b[0m\u001b[0mpa\u001b[0m\u001b[0;34m.\u001b[0m\u001b[0mdeserialize\u001b[0m\u001b[0;34m(\u001b[0m\u001b[0mcontent\u001b[0m\u001b[0;34m)\u001b[0m\u001b[0;34m)\u001b[0m\u001b[0;34m\u001b[0m\u001b[0;34m\u001b[0m\u001b[0m\n\u001b[0m\u001b[1;32m    145\u001b[0m                 \u001b[0melements_to_load\u001b[0m\u001b[0;34m.\u001b[0m\u001b[0mappend\u001b[0m\u001b[0;34m(\u001b[0m\u001b[0mtemp_folder\u001b[0m \u001b[0;34m+\u001b[0m\u001b[0;34m'parameters'\u001b[0m\u001b[0;34m)\u001b[0m\u001b[0;34m\u001b[0m\u001b[0;34m\u001b[0m\u001b[0m\n\u001b[1;32m    146\u001b[0m \u001b[0;34m\u001b[0m\u001b[0m\n",
            "\u001b[0;32m/usr/local/lib/python3.6/dist-packages/pyarrow/serialization.pxi\u001b[0m in \u001b[0;36mpyarrow.lib.deserialize\u001b[0;34m()\u001b[0m\n",
            "\u001b[0;32m/usr/local/lib/python3.6/dist-packages/pyarrow/serialization.pxi\u001b[0m in \u001b[0;36mpyarrow.lib.deserialize_from\u001b[0;34m()\u001b[0m\n",
            "\u001b[0;32m/usr/local/lib/python3.6/dist-packages/pyarrow/serialization.pxi\u001b[0m in \u001b[0;36mpyarrow.lib.read_serialized\u001b[0;34m()\u001b[0m\n",
            "\u001b[0;32m/usr/local/lib/python3.6/dist-packages/pyarrow/error.pxi\u001b[0m in \u001b[0;36mpyarrow.lib.check_status\u001b[0;34m()\u001b[0m\n",
            "\u001b[0;31mArrowIOError\u001b[0m: Cannot read a negative number of bytes from BufferReader."
          ]
        }
      ]
    }
  ]
}